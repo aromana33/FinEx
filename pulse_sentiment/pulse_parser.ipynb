{
  "nbformat": 4,
  "nbformat_minor": 0,
  "metadata": {
    "kernelspec": {
      "display_name": "Python 3",
      "language": "python",
      "name": "python3"
    },
    "language_info": {
      "codemirror_mode": {
        "name": "ipython",
        "version": 3
      },
      "file_extension": ".py",
      "mimetype": "text/x-python",
      "name": "python",
      "nbconvert_exporter": "python",
      "pygments_lexer": "ipython3",
      "version": "3.7.6"
    },
    "colab": {
      "name": "pulse_parser.ipynb",
      "provenance": []
    }
  },
  "cells": [
    {
      "cell_type": "code",
      "metadata": {
        "id": "70togyfvdsLf"
      },
      "source": [
        "# !pip install selenium\n",
        "# !pip install webdriver_manager\n",
        "# !pip install clickhouse_driver\n",
        "from selenium import webdriver\n",
        "import time\n",
        "from webdriver_manager.chrome import ChromeDriverManager\n",
        "from clickhouse_driver import Client\n",
        "from bs4 import BeautifulSoup as bs\n",
        "import pandas as pd\n",
        "import requests\n",
        "import os\n",
        "from lxml import html\n",
        "import re\n",
        "import datetime"
      ],
      "execution_count": 7,
      "outputs": []
    },
    {
      "cell_type": "code",
      "metadata": {
        "id": "nwKp-gekdsLg",
        "outputId": "37154e7f-a002-46dc-db4e-242b46f5b03c"
      },
      "source": [
        "driver = webdriver.Chrome(ChromeDriverManager().install())\n",
        "sec = 'FXES'\n",
        "driver.get(f'https://www.tinkoff.ru/invest/stocks/{sec}/pulse/')"
      ],
      "execution_count": null,
      "outputs": [
        {
          "output_type": "stream",
          "text": [
            "\n",
            "\n",
            "====== WebDriver manager ======\n",
            "Current google-chrome version is 91.0.4472\n",
            "Get LATEST driver version for 91.0.4472\n",
            "Driver [/Users/aleksandraromanenko/.wdm/drivers/chromedriver/mac64/91.0.4472.101/chromedriver] found in cache\n"
          ],
          "name": "stderr"
        }
      ]
    },
    {
      "cell_type": "code",
      "metadata": {
        "id": "C6Knrb6ddsLh"
      },
      "source": [
        "page_length = driver.execute_script(\"return document.body.scrollHeight\")\n",
        "while page_length < 9898 + 1:\n",
        "    try:\n",
        "        driver.execute_script(f\"window.scrollTo(0, {page_length - 1000});\")\n",
        "        page_length = driver.execute_script(\"return document.body.scrollHeight\")\n",
        "    except:\n",
        "        pass"
      ],
      "execution_count": null,
      "outputs": []
    },
    {
      "cell_type": "code",
      "metadata": {
        "id": "lhHTq3BUdsLh"
      },
      "source": [
        "source_data = driver.page_source\n",
        "soup = bs(source_data, 'lxml')"
      ],
      "execution_count": null,
      "outputs": []
    },
    {
      "cell_type": "code",
      "metadata": {
        "id": "J5o20ABudsLh"
      },
      "source": [
        "posts = soup.find_all('div', {'class':'PulsePostCollapsed__text_3nQ1n PulsePostCollapsed__fourOrFiveLines_qVFqa'})\n",
        "logins = soup.find_all('div', {'class':'PulsePostAuthor__nicknameLink_1p4Zx'})\n",
        "likes = soup.find_all('div', {'class':'PulsePostBody__likes_130ao'})\n",
        "times = soup.find_all('div', {'class':'PulsePostAuthor__inserted_Ctbka'})\n",
        "        \n",
        "logins = [login.text for login in logins]\n",
        "posts = [post.text for post in posts]\n",
        "likes = [int(like.text.split()[0]) for like in likes]\n",
        "times = [time.text for time in times]\n",
        "\n",
        "df_posts = pd.DataFrame()\n",
        "df_posts['login'] = logins\n",
        "df_posts['post'] = posts\n",
        "df_posts['likes'] = likes\n",
        "df_posts['time'] = times\n"
      ],
      "execution_count": null,
      "outputs": []
    },
    {
      "cell_type": "code",
      "metadata": {
        "id": "PfvuIIYTdsLi"
      },
      "source": [
        "def time(tim):\n",
        "    if 'мин' in tim:\n",
        "        ex = datetime.datetime.now() - datetime.timedelta(minutes=int(tim.split(' ')[0]))\n",
        "        return ex.strftime(format='%d-%m-%Y %H:%m')\n",
        "    elif 'час' in tim:\n",
        "        if tim.split()[0] == 'час':\n",
        "            ex = datetime.datetime.now() - datetime.timedelta(hours=1)\n",
        "            return ex.strftime(format='%d-%m-%Y %H:%m')\n",
        "        else:\n",
        "            ex = datetime.datetime.now() - datetime.timedelta(hours=int(tim.split(' ')[0]))\n",
        "            return ex.strftime(format='%d-%m-%Y %H:%m')\n",
        "    elif 'вчера' in tim.lower():\n",
        "        yester = datetime.datetime.now() - datetime.timedelta(days=1)\n",
        "        return yester.strftime(format='%d-%m-%Y ') + tim.split(' ')[-1]"
      ],
      "execution_count": null,
      "outputs": []
    },
    {
      "cell_type": "code",
      "metadata": {
        "id": "9Nl7pH2vdsLi"
      },
      "source": [
        "df_posts.time = df_posts.time.apply(lambda x: time(x))"
      ],
      "execution_count": null,
      "outputs": []
    },
    {
      "cell_type": "code",
      "metadata": {
        "id": "QFMmDLBidsLi"
      },
      "source": [
        "df_posts['time'] = pd.to_datetime(df_posts['time'], format='%d-%m-%Y %H:%M')"
      ],
      "execution_count": null,
      "outputs": []
    },
    {
      "cell_type": "code",
      "metadata": {
        "id": "hi41cq-bdsLj"
      },
      "source": [
        ""
      ],
      "execution_count": null,
      "outputs": []
    },
    {
      "cell_type": "code",
      "metadata": {
        "id": "DBR_OnNHdsLj",
        "outputId": "fda09d70-74bf-4559-c107-58379e45122b"
      },
      "source": [
        "df_posts.head(3)"
      ],
      "execution_count": null,
      "outputs": [
        {
          "output_type": "execute_result",
          "data": {
            "text/html": [
              "<div>\n",
              "<style scoped>\n",
              "    .dataframe tbody tr th:only-of-type {\n",
              "        vertical-align: middle;\n",
              "    }\n",
              "\n",
              "    .dataframe tbody tr th {\n",
              "        vertical-align: top;\n",
              "    }\n",
              "\n",
              "    .dataframe thead th {\n",
              "        text-align: right;\n",
              "    }\n",
              "</style>\n",
              "<table border=\"1\" class=\"dataframe\">\n",
              "  <thead>\n",
              "    <tr style=\"text-align: right;\">\n",
              "      <th></th>\n",
              "      <th>login</th>\n",
              "      <th>post</th>\n",
              "      <th>likes</th>\n",
              "      <th>time</th>\n",
              "    </tr>\n",
              "  </thead>\n",
              "  <tbody>\n",
              "    <tr>\n",
              "      <th>0</th>\n",
              "      <td>morcvec</td>\n",
              "      <td>Посмотрел новый ETF от Финекса, $FXES, меня оч...</td>\n",
              "      <td>9</td>\n",
              "      <td>2021-07-15 15:07:00</td>\n",
              "    </tr>\n",
              "    <tr>\n",
              "      <th>1</th>\n",
              "      <td>BonSai_108</td>\n",
              "      <td>Добавляю в мой долгосрочный портфель (ИИС- дру...</td>\n",
              "      <td>4</td>\n",
              "      <td>2021-07-15 15:07:00</td>\n",
              "    </tr>\n",
              "    <tr>\n",
              "      <th>2</th>\n",
              "      <td>vova.bless</td>\n",
              "      <td>$FXES 🕹 FinEx запустил новый фонд на видеоигры...</td>\n",
              "      <td>1</td>\n",
              "      <td>2021-07-15 15:07:00</td>\n",
              "    </tr>\n",
              "  </tbody>\n",
              "</table>\n",
              "</div>"
            ],
            "text/plain": [
              "        login                                               post likes  \\\n",
              "0     morcvec  Посмотрел новый ETF от Финекса, $FXES, меня оч...     9   \n",
              "1  BonSai_108  Добавляю в мой долгосрочный портфель (ИИС- дру...     4   \n",
              "2  vova.bless  $FXES 🕹 FinEx запустил новый фонд на видеоигры...     1   \n",
              "\n",
              "                 time  \n",
              "0 2021-07-15 15:07:00  \n",
              "1 2021-07-15 15:07:00  \n",
              "2 2021-07-15 15:07:00  "
            ]
          },
          "metadata": {
            "tags": []
          },
          "execution_count": 9
        }
      ]
    },
    {
      "cell_type": "raw",
      "metadata": {
        "id": "tl8qv435dsLk"
      },
      "source": [
        "df_posts.to_excel('FXES_posts_tinkof.xls', index=False)"
      ]
    },
    {
      "cell_type": "code",
      "metadata": {
        "id": "xBBcBqnSdsLk",
        "outputId": "2451da59-fbf8-4a77-d127-528ee6757409"
      },
      "source": [
        "from tqdm import tqdm \n",
        "logins = df_posts.login.unique()\n",
        "subscribers = []\n",
        "subscriptions = []\n",
        "cap = [] \n",
        "deals = []\n",
        "percents = []\n",
        "colors = []\n",
        "for login in tqdm(logins):\n",
        "    url = f'https://www.tinkoff.ru/invest/social/profile/{login}/'\n",
        "    response = requests.get(url)\n",
        "    tree = bs(response.content, 'html.parser')\n",
        "    subs = list(map(lambda x: x.split()[0], tree.find('div', {'class':'ProfileHeader__panel_3zzI4'}).text.split('•')))\n",
        "    subscribers.append(subs[0])\n",
        "    subscriptions.append(subs[1])\n",
        "    \n",
        "    summa = tree.find_all('div', {'class':'ProfileHeader__itemValue_2mH8M'})[0].text.replace('\\xa0', ' ')\n",
        "    amount = ''.join(summa.split( )[1:-1])\n",
        "    cap.append(summa.split( )[0] + ' ' + amount + ' ' + summa.split( )[-1])\n",
        "    \n",
        "    deals.append(int(tree.find_all('div', {'class':'ProfileHeader__itemValue_2mH8M'})[1].text.split()[0]))\n",
        "    \n",
        "    \n",
        "    percent = float(tree.find_all('div', {'class':'ProfileHeader__itemValue_2mH8M'})[2].text.split(\n",
        "    )[0].split('%')[0])\n",
        "    color = str(tree.find_all('span', {'class':'Icon-module__container_2fX7e'})[0]).split(\n",
        "        'color:')[1].split(';')[0]\n",
        "    \n",
        "    if color == '#22a053':\n",
        "        percents.append(percent)\n",
        "    elif color == '#dd5656':\n",
        "        percents.append(percent * -1)\n",
        "    else:\n",
        "        percents.append('-')\n",
        "    \n",
        "    "
      ],
      "execution_count": null,
      "outputs": [
        {
          "output_type": "stream",
          "text": [
            "100%|██████████| 28/28 [02:11<00:00,  4.70s/it]\n"
          ],
          "name": "stderr"
        }
      ]
    },
    {
      "cell_type": "code",
      "metadata": {
        "id": "0F2TQLGNdsLk"
      },
      "source": [
        "df_logs = pd.DataFrame()\n",
        "df_logs['login'] = logins\n",
        "df_logs['subscribers'] = subscribers\n",
        "df_logs['subscriptions'] = subscriptions\n",
        "df_logs['Объем портфеля'] = cap\n",
        "df_logs['Сделок за 30 дней'] = deals\n",
        "df_logs['За год'] = percents"
      ],
      "execution_count": null,
      "outputs": []
    },
    {
      "cell_type": "code",
      "metadata": {
        "id": "jYe1wXfXdsLl"
      },
      "source": [
        "df = df_posts.merge(df_logs, how='left', on='login')"
      ],
      "execution_count": null,
      "outputs": []
    },
    {
      "cell_type": "code",
      "metadata": {
        "id": "adO1qp-mdsLl",
        "outputId": "54b7fe55-1cb9-4e2c-ede5-76a6f256912a"
      },
      "source": [
        "df['Объем портфеля'].unique()"
      ],
      "execution_count": null,
      "outputs": [
        {
          "output_type": "execute_result",
          "data": {
            "text/plain": [
              "array(['до 3000000 ₽', 'до 500000 ₽', 'до 50000 ₽', 'до 10000 ₽',\n",
              "       'от 3000000 ₽', 'до 100000 ₽', 'до 1000000 ₽'], dtype=object)"
            ]
          },
          "metadata": {
            "tags": []
          },
          "execution_count": 104
        }
      ]
    },
    {
      "cell_type": "code",
      "metadata": {
        "id": "LlMs1ImNdsLm",
        "outputId": "30ef4f2c-efc4-466c-c3a2-122a14baa2f7"
      },
      "source": [
        "df.post.str.split(expand=True).stack().value_counts()"
      ],
      "execution_count": null,
      "outputs": [
        {
          "output_type": "execute_result",
          "data": {
            "text/plain": [
              "и             73\n",
              "в             71\n",
              "-             48\n",
              "на            45\n",
              "не            30\n",
              "              ..\n",
              "Roblox         1\n",
              "рисков:        1\n",
              "Среди          1\n",
              "видеоигр:      1\n",
              "задержкой.     1\n",
              "Length: 1632, dtype: int64"
            ]
          },
          "metadata": {
            "tags": []
          },
          "execution_count": 91
        }
      ]
    },
    {
      "cell_type": "code",
      "metadata": {
        "id": "tD3v9GMsdsLm",
        "outputId": "595d1754-0ad0-407c-aafa-249ccf85b611"
      },
      "source": [
        "import nltk\n",
        "from nltk.corpus import stopwords\n",
        "from pymystem3 import Mystem\n",
        "from string import punctuation\n",
        "import unicodedata\n",
        "import collections\n",
        "\n",
        "nltk.download(\"stopwords\")\n",
        "nltk.download('punkt')\n",
        "russian_stopwords = stopwords.words(\"russian\")\n",
        "append_stopword = ['это', 'FXES', 'https', 'fxes', 'finex', 'финекс']\n",
        "russian_stopwords.extend(append_stopword)"
      ],
      "execution_count": null,
      "outputs": [
        {
          "output_type": "stream",
          "text": [
            "[nltk_data] Downloading package stopwords to\n",
            "[nltk_data]     /Users/aleksandraromanenko/nltk_data...\n",
            "[nltk_data]   Package stopwords is already up-to-date!\n",
            "[nltk_data] Downloading package punkt to\n",
            "[nltk_data]     /Users/aleksandraromanenko/nltk_data...\n",
            "[nltk_data]   Package punkt is already up-to-date!\n"
          ],
          "name": "stderr"
        }
      ]
    },
    {
      "cell_type": "code",
      "metadata": {
        "id": "TBg5f6MXdsLm"
      },
      "source": [
        "mystem = Mystem() \n",
        "\n",
        "def preprocess_text(text):\n",
        "    tokens = mystem.lemmatize(text.lower())\n",
        "    tokens = [token for token in tokens if token not in russian_stopwords\\\n",
        "              and token != \" \" \\\n",
        "              and token.strip() not in punctuation]\n",
        "    \n",
        "    text = \" \".join(tokens)\n",
        "    \n",
        "    return text"
      ],
      "execution_count": null,
      "outputs": []
    },
    {
      "cell_type": "code",
      "metadata": {
        "id": "6yk3kxBldsLn"
      },
      "source": [
        "df['lemm_post'] = df.post.apply(preprocess_text)"
      ],
      "execution_count": null,
      "outputs": []
    },
    {
      "cell_type": "code",
      "metadata": {
        "id": "7cBxmN3KdsLn",
        "outputId": "a3ca3f30-06e3-4cc1-f799-c6a7b589bbc8"
      },
      "source": [
        "df.head()"
      ],
      "execution_count": null,
      "outputs": [
        {
          "output_type": "execute_result",
          "data": {
            "text/html": [
              "<div>\n",
              "<style scoped>\n",
              "    .dataframe tbody tr th:only-of-type {\n",
              "        vertical-align: middle;\n",
              "    }\n",
              "\n",
              "    .dataframe tbody tr th {\n",
              "        vertical-align: top;\n",
              "    }\n",
              "\n",
              "    .dataframe thead th {\n",
              "        text-align: right;\n",
              "    }\n",
              "</style>\n",
              "<table border=\"1\" class=\"dataframe\">\n",
              "  <thead>\n",
              "    <tr style=\"text-align: right;\">\n",
              "      <th></th>\n",
              "      <th>login</th>\n",
              "      <th>post</th>\n",
              "      <th>likes</th>\n",
              "      <th>time</th>\n",
              "      <th>subscribers</th>\n",
              "      <th>subscriptions</th>\n",
              "      <th>Объем портфеля</th>\n",
              "      <th>Сделок за 30 дней</th>\n",
              "      <th>За год</th>\n",
              "      <th>lemm_post</th>\n",
              "    </tr>\n",
              "  </thead>\n",
              "  <tbody>\n",
              "    <tr>\n",
              "      <th>0</th>\n",
              "      <td>morcvec</td>\n",
              "      <td>Посмотрел новый ETF от Финекса, $FXES, меня оч...</td>\n",
              "      <td>9</td>\n",
              "      <td>2021-07-15 15:07:00</td>\n",
              "      <td>3874</td>\n",
              "      <td>3</td>\n",
              "      <td>до 3000000 ₽</td>\n",
              "      <td>21</td>\n",
              "      <td>17.44</td>\n",
              "      <td>посмотреть новый etf очень смущать доля 7 5 4....</td>\n",
              "    </tr>\n",
              "    <tr>\n",
              "      <th>1</th>\n",
              "      <td>BonSai_108</td>\n",
              "      <td>Добавляю в мой долгосрочный портфель (ИИС- дру...</td>\n",
              "      <td>4</td>\n",
              "      <td>2021-07-15 15:07:00</td>\n",
              "      <td>2952</td>\n",
              "      <td>19</td>\n",
              "      <td>до 500000 ₽</td>\n",
              "      <td>184</td>\n",
              "      <td>19.57</td>\n",
              "      <td>добавлять долгосрочный портфель иис брокер нов...</td>\n",
              "    </tr>\n",
              "    <tr>\n",
              "      <th>2</th>\n",
              "      <td>vova.bless</td>\n",
              "      <td>$FXES 🕹 FinEx запустил новый фонд на видеоигры...</td>\n",
              "      <td>1</td>\n",
              "      <td>2021-07-15 15:07:00</td>\n",
              "      <td>41</td>\n",
              "      <td>19</td>\n",
              "      <td>до 500000 ₽</td>\n",
              "      <td>14</td>\n",
              "      <td>28.89</td>\n",
              "      <td>🕹 запускать новый фонд видеоигра киберспорт  «...</td>\n",
              "    </tr>\n",
              "    <tr>\n",
              "      <th>3</th>\n",
              "      <td>Serg0787</td>\n",
              "      <td>$FXES как купить в долларах этот фонд?</td>\n",
              "      <td>1</td>\n",
              "      <td>2021-07-15 14:07:00</td>\n",
              "      <td>7</td>\n",
              "      <td>13</td>\n",
              "      <td>до 3000000 ₽</td>\n",
              "      <td>119</td>\n",
              "      <td>23.65</td>\n",
              "      <td>купить доллар фонд</td>\n",
              "    </tr>\n",
              "    <tr>\n",
              "      <th>4</th>\n",
              "      <td>ProInvestNews</td>\n",
              "      <td>#etf #новыйфонд #finex #разбор #new #игры #gam...</td>\n",
              "      <td>0</td>\n",
              "      <td>2021-07-15 14:07:00</td>\n",
              "      <td>107</td>\n",
              "      <td>27</td>\n",
              "      <td>до 500000 ₽</td>\n",
              "      <td>158</td>\n",
              "      <td>22.01</td>\n",
              "      <td>etf новыйфонд разбор new игра games 14 июль на...</td>\n",
              "    </tr>\n",
              "  </tbody>\n",
              "</table>\n",
              "</div>"
            ],
            "text/plain": [
              "           login                                               post likes  \\\n",
              "0        morcvec  Посмотрел новый ETF от Финекса, $FXES, меня оч...     9   \n",
              "1     BonSai_108  Добавляю в мой долгосрочный портфель (ИИС- дру...     4   \n",
              "2     vova.bless  $FXES 🕹 FinEx запустил новый фонд на видеоигры...     1   \n",
              "3       Serg0787             $FXES как купить в долларах этот фонд?     1   \n",
              "4  ProInvestNews  #etf #новыйфонд #finex #разбор #new #игры #gam...     0   \n",
              "\n",
              "                 time subscribers subscriptions Объем портфеля  \\\n",
              "0 2021-07-15 15:07:00        3874             3   до 3000000 ₽   \n",
              "1 2021-07-15 15:07:00        2952            19    до 500000 ₽   \n",
              "2 2021-07-15 15:07:00          41            19    до 500000 ₽   \n",
              "3 2021-07-15 14:07:00           7            13   до 3000000 ₽   \n",
              "4 2021-07-15 14:07:00         107            27    до 500000 ₽   \n",
              "\n",
              "   Сделок за 30 дней  За год  \\\n",
              "0                 21   17.44   \n",
              "1                184   19.57   \n",
              "2                 14   28.89   \n",
              "3                119   23.65   \n",
              "4                158   22.01   \n",
              "\n",
              "                                           lemm_post  \n",
              "0  посмотреть новый etf очень смущать доля 7 5 4....  \n",
              "1  добавлять долгосрочный портфель иис брокер нов...  \n",
              "2  🕹 запускать новый фонд видеоигра киберспорт  «...  \n",
              "3                                 купить доллар фонд  \n",
              "4  etf новыйфонд разбор new игра games 14 июль на...  "
            ]
          },
          "metadata": {
            "tags": []
          },
          "execution_count": 107
        }
      ]
    },
    {
      "cell_type": "raw",
      "metadata": {
        "id": "9wrcBl6fdsLn"
      },
      "source": [
        "df.to_csv('df.csv')"
      ]
    },
    {
      "cell_type": "code",
      "metadata": {
        "id": "AvI5wXPZdsLo",
        "outputId": "3f60d7cc-d3cc-431d-892a-34dbeb6cdd2b",
        "colab": {
          "base_uri": "https://localhost:8080/"
        }
      },
      "source": [
        "!pip install dostoevsky"
      ],
      "execution_count": 8,
      "outputs": [
        {
          "output_type": "stream",
          "text": [
            "Collecting dostoevsky\n",
            "  Downloading https://files.pythonhosted.org/packages/b0/f1/662caeb5e3e3aa65dfcb7ece0a07fdd2c9184cf4c63fbcd53a381196d603/dostoevsky-0.6.0-py2.py3-none-any.whl\n",
            "Collecting fasttext==0.9.2\n",
            "\u001b[?25l  Downloading https://files.pythonhosted.org/packages/f8/85/e2b368ab6d3528827b147fdb814f8189acc981a4bc2f99ab894650e05c40/fasttext-0.9.2.tar.gz (68kB)\n",
            "\u001b[K     |████████████████████████████████| 71kB 3.1MB/s \n",
            "\u001b[?25hCollecting razdel==0.5.0\n",
            "  Downloading https://files.pythonhosted.org/packages/15/2c/664223a3924aa6e70479f7d37220b3a658765b9cfe760b4af7ffdc50d38f/razdel-0.5.0-py3-none-any.whl\n",
            "Requirement already satisfied: pybind11>=2.2 in /usr/local/lib/python3.7/dist-packages (from fasttext==0.9.2->dostoevsky) (2.6.2)\n",
            "Requirement already satisfied: setuptools>=0.7.0 in /usr/local/lib/python3.7/dist-packages (from fasttext==0.9.2->dostoevsky) (57.0.0)\n",
            "Requirement already satisfied: numpy in /usr/local/lib/python3.7/dist-packages (from fasttext==0.9.2->dostoevsky) (1.19.5)\n",
            "Building wheels for collected packages: fasttext\n",
            "  Building wheel for fasttext (setup.py) ... \u001b[?25l\u001b[?25hdone\n",
            "  Created wheel for fasttext: filename=fasttext-0.9.2-cp37-cp37m-linux_x86_64.whl size=3094794 sha256=8b47cec5ef2eebe9a2297692f41b7ff9e6e1bf546cb5eee0eccdf701cfae6560\n",
            "  Stored in directory: /root/.cache/pip/wheels/98/ba/7f/b154944a1cf5a8cee91c154b75231136cc3a3321ab0e30f592\n",
            "Successfully built fasttext\n",
            "Installing collected packages: fasttext, razdel, dostoevsky\n",
            "Successfully installed dostoevsky-0.6.0 fasttext-0.9.2 razdel-0.5.0\n"
          ],
          "name": "stdout"
        }
      ]
    },
    {
      "cell_type": "code",
      "metadata": {
        "id": "gqoDt3JjdsLo"
      },
      "source": [
        "!python -m dostoevsky download fasttext-social-network-model"
      ],
      "execution_count": 9,
      "outputs": []
    },
    {
      "cell_type": "code",
      "metadata": {
        "id": "Q-7PupyZdsLp"
      },
      "source": [
        "from dostoevsky.tokenization import RegexTokenizer\n",
        "from dostoevsky.models import FastTextSocialNetworkModel"
      ],
      "execution_count": 10,
      "outputs": []
    },
    {
      "cell_type": "code",
      "metadata": {
        "id": "XV6EC6ppdsLp",
        "outputId": "88c253d5-291a-4e36-9103-e91d264aa948",
        "colab": {
          "base_uri": "https://localhost:8080/"
        }
      },
      "source": [
        "tokenizer = RegexTokenizer()\n",
        "model = FastTextSocialNetworkModel(tokenizer=tokenizer)"
      ],
      "execution_count": 11,
      "outputs": [
        {
          "output_type": "stream",
          "text": [
            "Warning : `load_model` does not return WordVectorModel or SupervisedModel any more, but a `FastText` object which is very similar.\n"
          ],
          "name": "stderr"
        }
      ]
    },
    {
      "cell_type": "code",
      "metadata": {
        "id": "CO-eAqPydsLp"
      },
      "source": [
        "messages = [\n",
        "    'привет',\n",
        "    'я люблю тебя!!',\n",
        "    'малолетние дебилы'\n",
        "]\n",
        "\n",
        "results = model.predict(messages, k=2)"
      ],
      "execution_count": 12,
      "outputs": []
    },
    {
      "cell_type": "code",
      "metadata": {
        "id": "19Hns69hf04o",
        "outputId": "e0ddf7d1-020a-4344-cfb7-8fed63f13d15",
        "colab": {
          "base_uri": "https://localhost:8080/"
        }
      },
      "source": [
        "results"
      ],
      "execution_count": 23,
      "outputs": [
        {
          "output_type": "execute_result",
          "data": {
            "text/plain": [
              "[{'skip': 0.0020607432816177607, 'speech': 1.0000100135803223},\n",
              " {'positive': 0.9886782765388489, 'skip': 0.005394937004894018},\n",
              " {'negative': 0.9525841474533081, 'neutral': 0.13661839067935944}]"
            ]
          },
          "metadata": {
            "tags": []
          },
          "execution_count": 23
        }
      ]
    },
    {
      "cell_type": "code",
      "metadata": {
        "id": "BehsdO2hdsLq",
        "outputId": "66543274-7787-42a8-8c4c-41e7e571604d",
        "colab": {
          "base_uri": "https://localhost:8080/"
        }
      },
      "source": [
        "for i, mes in enumerate(messages):\n",
        "  tick = sorted(results[i])[0]\n",
        "  print(mes, tick, results[i][tick])"
      ],
      "execution_count": 24,
      "outputs": [
        {
          "output_type": "stream",
          "text": [
            "привет skip 0.0020607432816177607\n",
            "я люблю тебя!! positive 0.9886782765388489\n",
            "малолетние дебилы negative 0.9525841474533081\n"
          ],
          "name": "stdout"
        }
      ]
    },
    {
      "cell_type": "code",
      "metadata": {
        "id": "4U5CvNcRdsLq",
        "outputId": "4d947e69-9ec5-4898-e0a1-4cd78d67e765",
        "colab": {
          "base_uri": "https://localhost:8080/"
        }
      },
      "source": [
        "sorted(results[2].items(), key=lambda x: x[1], reverse=True)[0]"
      ],
      "execution_count": 31,
      "outputs": [
        {
          "output_type": "execute_result",
          "data": {
            "text/plain": [
              "('negative', 0.9525841474533081)"
            ]
          },
          "metadata": {
            "tags": []
          },
          "execution_count": 31
        }
      ]
    },
    {
      "cell_type": "code",
      "metadata": {
        "id": "l2F8NrzHdsLq"
      },
      "source": [
        "df= pd.read_csv('https://raw.githubusercontent.com/aromana33/FinEx/main/pulse_sentiment/df_upd.csv')"
      ],
      "execution_count": 57,
      "outputs": []
    },
    {
      "cell_type": "code",
      "metadata": {
        "id": "1EKYqSIBhUIl"
      },
      "source": [
        "df.post = df.post.apply(str)"
      ],
      "execution_count": 58,
      "outputs": []
    },
    {
      "cell_type": "code",
      "metadata": {
        "id": "PCqaOxZqgcp0"
      },
      "source": [
        "comments = df.post.tolist()"
      ],
      "execution_count": 59,
      "outputs": []
    },
    {
      "cell_type": "code",
      "metadata": {
        "id": "3D5-gALVhAzM",
        "outputId": "6cebd015-acd3-46cc-9b9b-675fb0130104",
        "colab": {
          "base_uri": "https://localhost:8080/",
          "height": 116
        }
      },
      "source": [
        "comments[0]"
      ],
      "execution_count": 60,
      "outputs": [
        {
          "output_type": "execute_result",
          "data": {
            "application/vnd.google.colaboratory.intrinsic+json": {
              "type": "string"
            },
            "text/plain": [
              "'посмотрел новый финекса очень смущают доли 7 этих sea limited unity bilibili целом вполне использовать вложений очень мелких сумм чисто ставка индустрию благодаря наличию крупной суммарной доли nvda tcehy nintendo atvi ea ttwo ubisoft capcom kingsoft уравновешивания множества перегретых ненадёжных скриншоте весь состав вчерашний день целом адекватно брать небольшую сумму увеличения экспозиции компаниях вроде тенсент нвидиа возможностью заработать дополнительную доходность случае долгосрочного успеха прочей рискованной мелочи лдв кроме прочего никуда исчезала фонды продолжаю покупать именно ради неё несмотря собранный портфель квалифицированных инвесторов igm qqq igv ihi psi отличие самых полезных фондов длинные облигации отрицательной реальной доходностью любимый управляющий предоставил российским инвесторам интересное прикуплю немного нвидиа уронит благодаря крупной доле коррекцией сплита ближайшем походе вниз рынка учётом успеха сделки arm компанию максимум 700 акцию оценить выходя рамки адекватности 800 чисто результат хайпа удивлюсь 10 просадки фоне 2 широкого рынка обрадуюсь пока всё удачи нам всем держите руку пульсе'"
            ]
          },
          "metadata": {
            "tags": []
          },
          "execution_count": 60
        }
      ]
    },
    {
      "cell_type": "code",
      "metadata": {
        "id": "-6LHSBWLgcxU",
        "outputId": "626797ae-eb43-4e25-e726-60b030e9a283",
        "colab": {
          "base_uri": "https://localhost:8080/"
        }
      },
      "source": [
        "tokenizer = RegexTokenizer()\n",
        "model = FastTextSocialNetworkModel(tokenizer=tokenizer)\n",
        "results = model.predict(comments, k=2)"
      ],
      "execution_count": 61,
      "outputs": [
        {
          "output_type": "stream",
          "text": [
            "Warning : `load_model` does not return WordVectorModel or SupervisedModel any more, but a `FastText` object which is very similar.\n"
          ],
          "name": "stderr"
        }
      ]
    },
    {
      "cell_type": "code",
      "metadata": {
        "id": "-N7XMWdsgdHv"
      },
      "source": [
        "from collections import defaultdict\n",
        "funds = dict()\n",
        "funds['FXES'] = dict()\n",
        "\n",
        "neutral = []\n",
        "positive = []\n",
        "negative = []\n",
        "speech = []\n",
        "skip = []\n",
        "\n",
        "for res in results:\n",
        "  res = defaultdict(None, res)\n",
        "  neutral.append(res.get('neutral'))\n",
        "  positive.append(res.get('positive'))\n",
        "  negative.append(res.get('negative'))\n",
        "  speech.append(res.get('speech'))\n",
        "  skip.append(res.get('skip'))\n",
        "funds['FXES']['neutral'] = len([i for i in neutral if i])\n",
        "funds['FXES']['positive'] = len([i for i in positive if i])\n",
        "funds['FXES']['negative'] = len([i for i in negative if i])\n",
        "funds['FXES']['speech'] = len([i for i in speech if i])\n",
        "funds['FXES']['skip'] = len([i for i in skip if i])"
      ],
      "execution_count": 90,
      "outputs": []
    },
    {
      "cell_type": "code",
      "metadata": {
        "id": "7-KLR5s0yExm",
        "outputId": "b522075d-b677-495c-f0d1-45a318c6fb78",
        "colab": {
          "base_uri": "https://localhost:8080/"
        }
      },
      "source": [
        "funds"
      ],
      "execution_count": 91,
      "outputs": [
        {
          "output_type": "execute_result",
          "data": {
            "text/plain": [
              "{'FXES': {'negative': 12,\n",
              "  'neutral': 28,\n",
              "  'positive': 9,\n",
              "  'skip': 9,\n",
              "  'speech': 2}}"
            ]
          },
          "metadata": {
            "tags": []
          },
          "execution_count": 91
        }
      ]
    },
    {
      "cell_type": "code",
      "metadata": {
        "id": "r57rrjOdiTWQ"
      },
      "source": [
        "from collections import defaultdict\n",
        "f = defaultdict(None, results[0])"
      ],
      "execution_count": 81,
      "outputs": []
    },
    {
      "cell_type": "code",
      "metadata": {
        "id": "2gTFKbuziTd3",
        "outputId": "e8b8e582-abc1-4e04-8220-fedd3040a92c",
        "colab": {
          "base_uri": "https://localhost:8080/"
        }
      },
      "source": [
        "f"
      ],
      "execution_count": 82,
      "outputs": [
        {
          "output_type": "execute_result",
          "data": {
            "text/plain": [
              "defaultdict(None,\n",
              "            {'neutral': 0.5000100135803223, 'positive': 0.14805719256401062})"
            ]
          },
          "metadata": {
            "tags": []
          },
          "execution_count": 82
        }
      ]
    },
    {
      "cell_type": "code",
      "metadata": {
        "id": "fjX72udHiTfp",
        "outputId": "72b1ed24-1f32-4f5a-c20a-d34d121e9d9d",
        "colab": {
          "base_uri": "https://localhost:8080/"
        }
      },
      "source": [
        "f.get('neutral')"
      ],
      "execution_count": 85,
      "outputs": [
        {
          "output_type": "execute_result",
          "data": {
            "text/plain": [
              "0.5000100135803223"
            ]
          },
          "metadata": {
            "tags": []
          },
          "execution_count": 85
        }
      ]
    },
    {
      "cell_type": "code",
      "metadata": {
        "id": "SHUuIsoDiTsN"
      },
      "source": [
        "funds_n = ['TGRN', 'AMHC', 'TBIO']"
      ],
      "execution_count": 100,
      "outputs": []
    },
    {
      "cell_type": "code",
      "metadata": {
        "id": "F9LW2DGSiTuU"
      },
      "source": [
        "tg_df = pd.read_csv('https://raw.githubusercontent.com/aromana33/FinEx/main/pulse_sentiment/TGRN_df_upd.csv')\n",
        "am_df = pd.read_csv('https://raw.githubusercontent.com/aromana33/FinEx/main/pulse_sentiment/AMHC_df_upd.csv')\n",
        "tb_df = pd.read_csv('https://raw.githubusercontent.com/aromana33/FinEx/main/pulse_sentiment/TBIO_df_upd.csv')"
      ],
      "execution_count": 93,
      "outputs": []
    },
    {
      "cell_type": "code",
      "metadata": {
        "id": "FqX-7DX_iT7w",
        "outputId": "e144ab08-4a3e-424e-9337-8eaffb796a3f",
        "colab": {
          "base_uri": "https://localhost:8080/"
        }
      },
      "source": [
        "funds = dict()\n",
        "for i, df in enumerate([tg_df, am_df, tb_df]):\n",
        "  df.post = df.post.apply(str)\n",
        "  comments = df.post\n",
        "  tokenizer = RegexTokenizer()\n",
        "  model = FastTextSocialNetworkModel(tokenizer=tokenizer)\n",
        "  results = model.predict(comments, k=2)\n",
        "\n",
        "  funds[funds_n[i]] = dict()\n",
        "\n",
        "  neutral = []\n",
        "  positive = []\n",
        "  negative = []\n",
        "  speech = []\n",
        "  skip = []\n",
        "\n",
        "  for res in results:\n",
        "    res = defaultdict(None, res)\n",
        "    neutral.append(res.get('neutral'))\n",
        "    positive.append(res.get('positive'))\n",
        "    negative.append(res.get('negative'))\n",
        "    speech.append(res.get('speech'))\n",
        "    skip.append(res.get('skip'))\n",
        "  funds[funds_n[i]]['neutral'] = len([i for i in neutral if i])\n",
        "  funds[funds_n[i]]['positive'] = len([i for i in positive if i])\n",
        "  funds[funds_n[i]]['negative'] = len([i for i in negative if i])\n",
        "  funds[funds_n[i]]['speech'] = len([i for i in speech if i])\n",
        "  funds[funds_n[i]]['skip'] = len([i for i in skip if i])"
      ],
      "execution_count": 103,
      "outputs": [
        {
          "output_type": "stream",
          "text": [
            "Warning : `load_model` does not return WordVectorModel or SupervisedModel any more, but a `FastText` object which is very similar.\n",
            "Warning : `load_model` does not return WordVectorModel or SupervisedModel any more, but a `FastText` object which is very similar.\n",
            "Warning : `load_model` does not return WordVectorModel or SupervisedModel any more, but a `FastText` object which is very similar.\n"
          ],
          "name": "stderr"
        }
      ]
    },
    {
      "cell_type": "code",
      "metadata": {
        "id": "rLkNc0OniT97",
        "outputId": "ccf8c15c-8245-41f2-8734-d334c707d2d8",
        "colab": {
          "base_uri": "https://localhost:8080/"
        }
      },
      "source": [
        "for fund in funds_n:\n",
        "  print(fund, sorted(funds[fund].items(), key=lambda x: x[1], reverse=True))"
      ],
      "execution_count": 105,
      "outputs": [
        {
          "output_type": "stream",
          "text": [
            "TGRN [('neutral', 26), ('negative', 17), ('positive', 9), ('skip', 6), ('speech', 2)]\n",
            "AMHC [('neutral', 13), ('negative', 6), ('positive', 5), ('skip', 2), ('speech', 0)]\n",
            "TBIO [('neutral', 29), ('negative', 17), ('skip', 9), ('positive', 4), ('speech', 1)]\n"
          ],
          "name": "stdout"
        }
      ]
    },
    {
      "cell_type": "code",
      "metadata": {
        "id": "z5AW8Pa5gdJ0",
        "outputId": "d657cb56-cc60-4ae9-d9dd-7251f4394a01",
        "colab": {
          "base_uri": "https://localhost:8080/"
        }
      },
      "source": [
        "for res in results:\n",
        "  print(sorted(res.items(), key=lambda x: x[1], reverse=True))"
      ],
      "execution_count": 109,
      "outputs": [
        {
          "output_type": "stream",
          "text": [
            "[('skip', 0.22816647589206696), ('positive', 0.21207880973815918)]\n",
            "[('neutral', 0.9362950325012207), ('skip', 0.24509501457214355)]\n",
            "[('neutral', 0.8354935646057129), ('negative', 0.10088862478733063)]\n",
            "[('neutral', 1.0000100135803223), ('skip', 0.0003669706347864121)]\n",
            "[('neutral', 0.9219318628311157), ('positive', 0.3629792034626007)]\n",
            "[('neutral', 0.4688006341457367), ('negative', 0.1732981950044632)]\n",
            "[('neutral', 0.6001983880996704), ('negative', 0.22271016240119934)]\n",
            "[('neutral', 0.7663036584854126), ('negative', 0.14034625887870789)]\n",
            "[('neutral', 0.6370407938957214), ('skip', 0.23371636867523193)]\n",
            "[('negative', 0.8634016513824463), ('neutral', 0.4532718360424042)]\n",
            "[('neutral', 0.5775054097175598), ('negative', 0.16027602553367615)]\n",
            "[('neutral', 0.607673168182373), ('positive', 0.13661839067935944)]\n",
            "[('neutral', 0.4225146472454071), ('speech', 0.16886694729328156)]\n",
            "[('neutral', 0.960371196269989), ('skip', 0.3276783227920532)]\n",
            "[('neutral', 0.9539760947227478), ('skip', 0.12253321707248688)]\n",
            "[('neutral', 0.5698626637458801), ('negative', 0.22816647589206696)]\n",
            "[('neutral', 0.6370407938957214), ('negative', 0.22271016240119934)]\n",
            "[('neutral', 0.38492217659950256), ('negative', 0.2689514458179474)]\n",
            "[('neutral', 0.8311530351638794), ('positive', 0.09269777685403824)]\n",
            "[('neutral', 0.6791887283325195), ('negative', 0.19194278120994568)]\n",
            "[('neutral', 0.6001983880996704), ('negative', 0.16452647745609283)]\n",
            "[('neutral', 0.8221991658210754), ('negative', 0.14805719256401062)]\n",
            "[('negative', 0.275139719247818), ('neutral', 0.2568419873714447)]\n",
            "[('neutral', 0.523430347442627), ('negative', 0.26285186409950256)]\n",
            "[('neutral', 0.9886782765388489), ('skip', 0.017452487722039223)]\n",
            "[('neutral', 0.8267217874526978), ('negative', 0.10375863313674927)]\n",
            "[('neutral', 0.21207880973815918), ('skip', 0.14805719256401062)]\n",
            "[('neutral', 0.7248802781105042), ('skip', 0.23371636867523193)]\n",
            "[('neutral', 0.4532718360424042), ('negative', 0.1968362182378769)]\n",
            "[('neutral', 0.538993239402771), ('negative', 0.3007555902004242)]\n"
          ],
          "name": "stdout"
        }
      ]
    },
    {
      "cell_type": "code",
      "metadata": {
        "id": "NicV3lY_dsLq"
      },
      "source": [
        ""
      ],
      "execution_count": null,
      "outputs": []
    }
  ]
}