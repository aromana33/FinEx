{
 "cells": [
  {
   "cell_type": "code",
   "execution_count": 1,
   "metadata": {},
   "outputs": [],
   "source": [
    "from selenium import webdriver\n",
    "import time\n",
    "from webdriver_manager.chrome import ChromeDriverManager\n",
    "from clickhouse_driver import Client\n",
    "from bs4 import BeautifulSoup as bs\n",
    "import pandas as pd\n",
    "import requests\n",
    "import os\n",
    "from lxml import html\n",
    "import re\n",
    "import datetime"
   ]
  },
  {
   "cell_type": "code",
   "execution_count": 2,
   "metadata": {},
   "outputs": [
    {
     "name": "stderr",
     "output_type": "stream",
     "text": [
      "\n",
      "\n",
      "====== WebDriver manager ======\n",
      "Current google-chrome version is 91.0.4472\n",
      "Get LATEST driver version for 91.0.4472\n",
      "Driver [/Users/aleksandraromanenko/.wdm/drivers/chromedriver/mac64/91.0.4472.101/chromedriver] found in cache\n"
     ]
    }
   ],
   "source": [
    "driver = webdriver.Chrome(ChromeDriverManager().install())\n",
    "sec = 'FXES'\n",
    "driver.get(f'https://www.tinkoff.ru/invest/stocks/{sec}/pulse/')"
   ]
  },
  {
   "cell_type": "code",
   "execution_count": 3,
   "metadata": {},
   "outputs": [],
   "source": [
    "page_length = driver.execute_script(\"return document.body.scrollHeight\")\n",
    "while page_length < 9898 + 1:\n",
    "    try:\n",
    "        driver.execute_script(f\"window.scrollTo(0, {page_length - 1000});\")\n",
    "        page_length = driver.execute_script(\"return document.body.scrollHeight\")\n",
    "    except:\n",
    "        pass"
   ]
  },
  {
   "cell_type": "code",
   "execution_count": 4,
   "metadata": {},
   "outputs": [],
   "source": [
    "source_data = driver.page_source\n",
    "soup = bs(source_data, 'lxml')"
   ]
  },
  {
   "cell_type": "code",
   "execution_count": 5,
   "metadata": {},
   "outputs": [],
   "source": [
    "posts = soup.find_all('div', {'class':'PulsePostCollapsed__text_3nQ1n PulsePostCollapsed__fourOrFiveLines_qVFqa'})\n",
    "logins = soup.find_all('div', {'class':'PulsePostAuthor__nicknameLink_1p4Zx'})\n",
    "likes = soup.find_all('div', {'class':'PulsePostBody__likes_130ao'})\n",
    "times = soup.find_all('div', {'class':'PulsePostAuthor__inserted_Ctbka'})\n",
    "        \n",
    "logins = [login.text for login in logins]\n",
    "posts = [post.text for post in posts]\n",
    "likes = [int(like.text.split()[0]) for like in likes]\n",
    "times = [time.text for time in times]\n",
    "\n",
    "df_posts = pd.DataFrame()\n",
    "df_posts['login'] = logins\n",
    "df_posts['post'] = posts\n",
    "df_posts['likes'] = likes\n",
    "df_posts['time'] = times\n"
   ]
  },
  {
   "cell_type": "code",
   "execution_count": 6,
   "metadata": {},
   "outputs": [],
   "source": [
    "def time(tim):\n",
    "    if 'мин' in tim:\n",
    "        ex = datetime.datetime.now() - datetime.timedelta(minutes=int(tim.split(' ')[0]))\n",
    "        return ex.strftime(format='%d-%m-%Y %H:%m')\n",
    "    elif 'час' in tim:\n",
    "        if tim.split()[0] == 'час':\n",
    "            ex = datetime.datetime.now() - datetime.timedelta(hours=1)\n",
    "            return ex.strftime(format='%d-%m-%Y %H:%m')\n",
    "        else:\n",
    "            ex = datetime.datetime.now() - datetime.timedelta(hours=int(tim.split(' ')[0]))\n",
    "            return ex.strftime(format='%d-%m-%Y %H:%m')\n",
    "    elif 'вчера' in tim.lower():\n",
    "        yester = datetime.datetime.now() - datetime.timedelta(days=1)\n",
    "        return yester.strftime(format='%d-%m-%Y ') + tim.split(' ')[-1]"
   ]
  },
  {
   "cell_type": "code",
   "execution_count": 7,
   "metadata": {},
   "outputs": [],
   "source": [
    "df_posts.time = df_posts.time.apply(lambda x: time(x))"
   ]
  },
  {
   "cell_type": "code",
   "execution_count": 8,
   "metadata": {},
   "outputs": [],
   "source": [
    "df_posts['time'] = pd.to_datetime(df_posts['time'], format='%d-%m-%Y %H:%M')"
   ]
  },
  {
   "cell_type": "code",
   "execution_count": null,
   "metadata": {},
   "outputs": [],
   "source": []
  },
  {
   "cell_type": "code",
   "execution_count": 9,
   "metadata": {},
   "outputs": [
    {
     "data": {
      "text/html": [
       "<div>\n",
       "<style scoped>\n",
       "    .dataframe tbody tr th:only-of-type {\n",
       "        vertical-align: middle;\n",
       "    }\n",
       "\n",
       "    .dataframe tbody tr th {\n",
       "        vertical-align: top;\n",
       "    }\n",
       "\n",
       "    .dataframe thead th {\n",
       "        text-align: right;\n",
       "    }\n",
       "</style>\n",
       "<table border=\"1\" class=\"dataframe\">\n",
       "  <thead>\n",
       "    <tr style=\"text-align: right;\">\n",
       "      <th></th>\n",
       "      <th>login</th>\n",
       "      <th>post</th>\n",
       "      <th>likes</th>\n",
       "      <th>time</th>\n",
       "    </tr>\n",
       "  </thead>\n",
       "  <tbody>\n",
       "    <tr>\n",
       "      <th>0</th>\n",
       "      <td>morcvec</td>\n",
       "      <td>Посмотрел новый ETF от Финекса, $FXES, меня оч...</td>\n",
       "      <td>9</td>\n",
       "      <td>2021-07-15 15:07:00</td>\n",
       "    </tr>\n",
       "    <tr>\n",
       "      <th>1</th>\n",
       "      <td>BonSai_108</td>\n",
       "      <td>Добавляю в мой долгосрочный портфель (ИИС- дру...</td>\n",
       "      <td>4</td>\n",
       "      <td>2021-07-15 15:07:00</td>\n",
       "    </tr>\n",
       "    <tr>\n",
       "      <th>2</th>\n",
       "      <td>vova.bless</td>\n",
       "      <td>$FXES 🕹 FinEx запустил новый фонд на видеоигры...</td>\n",
       "      <td>1</td>\n",
       "      <td>2021-07-15 15:07:00</td>\n",
       "    </tr>\n",
       "  </tbody>\n",
       "</table>\n",
       "</div>"
      ],
      "text/plain": [
       "        login                                               post likes  \\\n",
       "0     morcvec  Посмотрел новый ETF от Финекса, $FXES, меня оч...     9   \n",
       "1  BonSai_108  Добавляю в мой долгосрочный портфель (ИИС- дру...     4   \n",
       "2  vova.bless  $FXES 🕹 FinEx запустил новый фонд на видеоигры...     1   \n",
       "\n",
       "                 time  \n",
       "0 2021-07-15 15:07:00  \n",
       "1 2021-07-15 15:07:00  \n",
       "2 2021-07-15 15:07:00  "
      ]
     },
     "execution_count": 9,
     "metadata": {},
     "output_type": "execute_result"
    }
   ],
   "source": [
    "df_posts.head(3)"
   ]
  },
  {
   "cell_type": "raw",
   "metadata": {},
   "source": [
    "df_posts.to_excel('FXES_posts_tinkof.xls', index=False)"
   ]
  },
  {
   "cell_type": "code",
   "execution_count": 83,
   "metadata": {},
   "outputs": [
    {
     "name": "stderr",
     "output_type": "stream",
     "text": [
      "100%|██████████| 28/28 [02:11<00:00,  4.70s/it]\n"
     ]
    }
   ],
   "source": [
    "from tqdm import tqdm \n",
    "logins = df_posts.login.unique()\n",
    "subscribers = []\n",
    "subscriptions = []\n",
    "cap = [] \n",
    "deals = []\n",
    "percents = []\n",
    "colors = []\n",
    "for login in tqdm(logins):\n",
    "    url = f'https://www.tinkoff.ru/invest/social/profile/{login}/'\n",
    "    response = requests.get(url)\n",
    "    tree = bs(response.content, 'html.parser')\n",
    "    subs = list(map(lambda x: x.split()[0], tree.find('div', {'class':'ProfileHeader__panel_3zzI4'}).text.split('•')))\n",
    "    subscribers.append(subs[0])\n",
    "    subscriptions.append(subs[1])\n",
    "    \n",
    "    summa = tree.find_all('div', {'class':'ProfileHeader__itemValue_2mH8M'})[0].text.replace('\\xa0', ' ')\n",
    "    amount = ''.join(summa.split( )[1:-1])\n",
    "    cap.append(summa.split( )[0] + ' ' + amount + ' ' + summa.split( )[-1])\n",
    "    \n",
    "    deals.append(int(tree.find_all('div', {'class':'ProfileHeader__itemValue_2mH8M'})[1].text.split()[0]))\n",
    "    \n",
    "    \n",
    "    percent = float(tree.find_all('div', {'class':'ProfileHeader__itemValue_2mH8M'})[2].text.split(\n",
    "    )[0].split('%')[0])\n",
    "    color = str(tree.find_all('span', {'class':'Icon-module__container_2fX7e'})[0]).split(\n",
    "        'color:')[1].split(';')[0]\n",
    "    \n",
    "    if color == '#22a053':\n",
    "        percents.append(percent)\n",
    "    elif color == '#dd5656':\n",
    "        percents.append(percent * -1)\n",
    "    else:\n",
    "        percents.append('-')\n",
    "    \n",
    "    "
   ]
  },
  {
   "cell_type": "code",
   "execution_count": 84,
   "metadata": {},
   "outputs": [],
   "source": [
    "df_logs = pd.DataFrame()\n",
    "df_logs['login'] = logins\n",
    "df_logs['subscribers'] = subscribers\n",
    "df_logs['subscriptions'] = subscriptions\n",
    "df_logs['Объем портфеля'] = cap\n",
    "df_logs['Сделок за 30 дней'] = deals\n",
    "df_logs['За год'] = percents"
   ]
  },
  {
   "cell_type": "code",
   "execution_count": 88,
   "metadata": {},
   "outputs": [],
   "source": [
    "df = df_posts.merge(df_logs, how='left', on='login')"
   ]
  },
  {
   "cell_type": "code",
   "execution_count": 104,
   "metadata": {},
   "outputs": [
    {
     "data": {
      "text/plain": [
       "array(['до 3000000 ₽', 'до 500000 ₽', 'до 50000 ₽', 'до 10000 ₽',\n",
       "       'от 3000000 ₽', 'до 100000 ₽', 'до 1000000 ₽'], dtype=object)"
      ]
     },
     "execution_count": 104,
     "metadata": {},
     "output_type": "execute_result"
    }
   ],
   "source": [
    "df['Объем портфеля'].unique()"
   ]
  },
  {
   "cell_type": "code",
   "execution_count": 91,
   "metadata": {},
   "outputs": [
    {
     "data": {
      "text/plain": [
       "и             73\n",
       "в             71\n",
       "-             48\n",
       "на            45\n",
       "не            30\n",
       "              ..\n",
       "Roblox         1\n",
       "рисков:        1\n",
       "Среди          1\n",
       "видеоигр:      1\n",
       "задержкой.     1\n",
       "Length: 1632, dtype: int64"
      ]
     },
     "execution_count": 91,
     "metadata": {},
     "output_type": "execute_result"
    }
   ],
   "source": [
    "df.post.str.split(expand=True).stack().value_counts()"
   ]
  },
  {
   "cell_type": "code",
   "execution_count": 99,
   "metadata": {},
   "outputs": [
    {
     "name": "stderr",
     "output_type": "stream",
     "text": [
      "[nltk_data] Downloading package stopwords to\n",
      "[nltk_data]     /Users/aleksandraromanenko/nltk_data...\n",
      "[nltk_data]   Package stopwords is already up-to-date!\n",
      "[nltk_data] Downloading package punkt to\n",
      "[nltk_data]     /Users/aleksandraromanenko/nltk_data...\n",
      "[nltk_data]   Package punkt is already up-to-date!\n"
     ]
    }
   ],
   "source": [
    "import nltk\n",
    "from nltk.corpus import stopwords\n",
    "from pymystem3 import Mystem\n",
    "from string import punctuation\n",
    "import unicodedata\n",
    "import collections\n",
    "\n",
    "nltk.download(\"stopwords\")\n",
    "nltk.download('punkt')\n",
    "russian_stopwords = stopwords.words(\"russian\")\n",
    "append_stopword = ['это', 'FXES', 'https', 'fxes', 'finex', 'финекс']\n",
    "russian_stopwords.extend(append_stopword)"
   ]
  },
  {
   "cell_type": "code",
   "execution_count": 100,
   "metadata": {},
   "outputs": [],
   "source": [
    "mystem = Mystem() \n",
    "\n",
    "def preprocess_text(text):\n",
    "    tokens = mystem.lemmatize(text.lower())\n",
    "    tokens = [token for token in tokens if token not in russian_stopwords\\\n",
    "              and token != \" \" \\\n",
    "              and token.strip() not in punctuation]\n",
    "    \n",
    "    text = \" \".join(tokens)\n",
    "    \n",
    "    return text"
   ]
  },
  {
   "cell_type": "code",
   "execution_count": 102,
   "metadata": {},
   "outputs": [],
   "source": [
    "df['lemm_post'] = df.post.apply(preprocess_text)"
   ]
  },
  {
   "cell_type": "code",
   "execution_count": 107,
   "metadata": {},
   "outputs": [
    {
     "data": {
      "text/html": [
       "<div>\n",
       "<style scoped>\n",
       "    .dataframe tbody tr th:only-of-type {\n",
       "        vertical-align: middle;\n",
       "    }\n",
       "\n",
       "    .dataframe tbody tr th {\n",
       "        vertical-align: top;\n",
       "    }\n",
       "\n",
       "    .dataframe thead th {\n",
       "        text-align: right;\n",
       "    }\n",
       "</style>\n",
       "<table border=\"1\" class=\"dataframe\">\n",
       "  <thead>\n",
       "    <tr style=\"text-align: right;\">\n",
       "      <th></th>\n",
       "      <th>login</th>\n",
       "      <th>post</th>\n",
       "      <th>likes</th>\n",
       "      <th>time</th>\n",
       "      <th>subscribers</th>\n",
       "      <th>subscriptions</th>\n",
       "      <th>Объем портфеля</th>\n",
       "      <th>Сделок за 30 дней</th>\n",
       "      <th>За год</th>\n",
       "      <th>lemm_post</th>\n",
       "    </tr>\n",
       "  </thead>\n",
       "  <tbody>\n",
       "    <tr>\n",
       "      <th>0</th>\n",
       "      <td>morcvec</td>\n",
       "      <td>Посмотрел новый ETF от Финекса, $FXES, меня оч...</td>\n",
       "      <td>9</td>\n",
       "      <td>2021-07-15 15:07:00</td>\n",
       "      <td>3874</td>\n",
       "      <td>3</td>\n",
       "      <td>до 3000000 ₽</td>\n",
       "      <td>21</td>\n",
       "      <td>17.44</td>\n",
       "      <td>посмотреть новый etf очень смущать доля 7 5 4....</td>\n",
       "    </tr>\n",
       "    <tr>\n",
       "      <th>1</th>\n",
       "      <td>BonSai_108</td>\n",
       "      <td>Добавляю в мой долгосрочный портфель (ИИС- дру...</td>\n",
       "      <td>4</td>\n",
       "      <td>2021-07-15 15:07:00</td>\n",
       "      <td>2952</td>\n",
       "      <td>19</td>\n",
       "      <td>до 500000 ₽</td>\n",
       "      <td>184</td>\n",
       "      <td>19.57</td>\n",
       "      <td>добавлять долгосрочный портфель иис брокер нов...</td>\n",
       "    </tr>\n",
       "    <tr>\n",
       "      <th>2</th>\n",
       "      <td>vova.bless</td>\n",
       "      <td>$FXES 🕹 FinEx запустил новый фонд на видеоигры...</td>\n",
       "      <td>1</td>\n",
       "      <td>2021-07-15 15:07:00</td>\n",
       "      <td>41</td>\n",
       "      <td>19</td>\n",
       "      <td>до 500000 ₽</td>\n",
       "      <td>14</td>\n",
       "      <td>28.89</td>\n",
       "      <td>🕹 запускать новый фонд видеоигра киберспорт  «...</td>\n",
       "    </tr>\n",
       "    <tr>\n",
       "      <th>3</th>\n",
       "      <td>Serg0787</td>\n",
       "      <td>$FXES как купить в долларах этот фонд?</td>\n",
       "      <td>1</td>\n",
       "      <td>2021-07-15 14:07:00</td>\n",
       "      <td>7</td>\n",
       "      <td>13</td>\n",
       "      <td>до 3000000 ₽</td>\n",
       "      <td>119</td>\n",
       "      <td>23.65</td>\n",
       "      <td>купить доллар фонд</td>\n",
       "    </tr>\n",
       "    <tr>\n",
       "      <th>4</th>\n",
       "      <td>ProInvestNews</td>\n",
       "      <td>#etf #новыйфонд #finex #разбор #new #игры #gam...</td>\n",
       "      <td>0</td>\n",
       "      <td>2021-07-15 14:07:00</td>\n",
       "      <td>107</td>\n",
       "      <td>27</td>\n",
       "      <td>до 500000 ₽</td>\n",
       "      <td>158</td>\n",
       "      <td>22.01</td>\n",
       "      <td>etf новыйфонд разбор new игра games 14 июль на...</td>\n",
       "    </tr>\n",
       "  </tbody>\n",
       "</table>\n",
       "</div>"
      ],
      "text/plain": [
       "           login                                               post likes  \\\n",
       "0        morcvec  Посмотрел новый ETF от Финекса, $FXES, меня оч...     9   \n",
       "1     BonSai_108  Добавляю в мой долгосрочный портфель (ИИС- дру...     4   \n",
       "2     vova.bless  $FXES 🕹 FinEx запустил новый фонд на видеоигры...     1   \n",
       "3       Serg0787             $FXES как купить в долларах этот фонд?     1   \n",
       "4  ProInvestNews  #etf #новыйфонд #finex #разбор #new #игры #gam...     0   \n",
       "\n",
       "                 time subscribers subscriptions Объем портфеля  \\\n",
       "0 2021-07-15 15:07:00        3874             3   до 3000000 ₽   \n",
       "1 2021-07-15 15:07:00        2952            19    до 500000 ₽   \n",
       "2 2021-07-15 15:07:00          41            19    до 500000 ₽   \n",
       "3 2021-07-15 14:07:00           7            13   до 3000000 ₽   \n",
       "4 2021-07-15 14:07:00         107            27    до 500000 ₽   \n",
       "\n",
       "   Сделок за 30 дней  За год  \\\n",
       "0                 21   17.44   \n",
       "1                184   19.57   \n",
       "2                 14   28.89   \n",
       "3                119   23.65   \n",
       "4                158   22.01   \n",
       "\n",
       "                                           lemm_post  \n",
       "0  посмотреть новый etf очень смущать доля 7 5 4....  \n",
       "1  добавлять долгосрочный портфель иис брокер нов...  \n",
       "2  🕹 запускать новый фонд видеоигра киберспорт  «...  \n",
       "3                                 купить доллар фонд  \n",
       "4  etf новыйфонд разбор new игра games 14 июль на...  "
      ]
     },
     "execution_count": 107,
     "metadata": {},
     "output_type": "execute_result"
    }
   ],
   "source": [
    "df.head()"
   ]
  },
  {
   "cell_type": "raw",
   "metadata": {},
   "source": [
    "df.to_csv('df.csv')"
   ]
  },
  {
   "cell_type": "code",
   "execution_count": 155,
   "metadata": {},
   "outputs": [
    {
     "name": "stdout",
     "output_type": "stream",
     "text": [
      "Collecting dostoevsky\n",
      "  Downloading dostoevsky-0.6.0-py2.py3-none-any.whl (8.5 kB)\n",
      "Collecting fasttext==0.9.2\n",
      "  Downloading fasttext-0.9.2.tar.gz (68 kB)\n",
      "\u001b[K     |████████████████████████████████| 68 kB 1.2 MB/s eta 0:00:01\n",
      "\u001b[?25hCollecting razdel==0.5.0\n",
      "  Downloading razdel-0.5.0-py3-none-any.whl (21 kB)\n",
      "Requirement already satisfied: pybind11>=2.2 in /opt/anaconda3/lib/python3.7/site-packages (from fasttext==0.9.2->dostoevsky) (2.6.2)\n",
      "Requirement already satisfied: setuptools>=0.7.0 in /opt/anaconda3/lib/python3.7/site-packages (from fasttext==0.9.2->dostoevsky) (47.1.1.post20200529)\n",
      "Requirement already satisfied: numpy in /opt/anaconda3/lib/python3.7/site-packages (from fasttext==0.9.2->dostoevsky) (1.20.3)\n",
      "Building wheels for collected packages: fasttext\n",
      "  Building wheel for fasttext (setup.py) ... \u001b[?25lerror\n",
      "\u001b[31m  ERROR: Command errored out with exit status 1:\n",
      "   command: /opt/anaconda3/bin/python3.7 -u -c 'import sys, setuptools, tokenize; sys.argv[0] = '\"'\"'/private/var/folders/10/_z2ffwmd113dsbkyc8cpg8mc0000gn/T/pip-install-hzncnuhk/fasttext/setup.py'\"'\"'; __file__='\"'\"'/private/var/folders/10/_z2ffwmd113dsbkyc8cpg8mc0000gn/T/pip-install-hzncnuhk/fasttext/setup.py'\"'\"';f=getattr(tokenize, '\"'\"'open'\"'\"', open)(__file__);code=f.read().replace('\"'\"'\\r\\n'\"'\"', '\"'\"'\\n'\"'\"');f.close();exec(compile(code, __file__, '\"'\"'exec'\"'\"'))' bdist_wheel -d /private/var/folders/10/_z2ffwmd113dsbkyc8cpg8mc0000gn/T/pip-wheel-2ub4btwg\n",
      "       cwd: /private/var/folders/10/_z2ffwmd113dsbkyc8cpg8mc0000gn/T/pip-install-hzncnuhk/fasttext/\n",
      "  Complete output (58 lines):\n",
      "  running bdist_wheel\n",
      "  running build\n",
      "  running build_py\n",
      "  creating build\n",
      "  creating build/lib.macosx-10.9-x86_64-3.7\n",
      "  creating build/lib.macosx-10.9-x86_64-3.7/fasttext\n",
      "  copying python/fasttext_module/fasttext/__init__.py -> build/lib.macosx-10.9-x86_64-3.7/fasttext\n",
      "  copying python/fasttext_module/fasttext/FastText.py -> build/lib.macosx-10.9-x86_64-3.7/fasttext\n",
      "  creating build/lib.macosx-10.9-x86_64-3.7/fasttext/util\n",
      "  copying python/fasttext_module/fasttext/util/util.py -> build/lib.macosx-10.9-x86_64-3.7/fasttext/util\n",
      "  copying python/fasttext_module/fasttext/util/__init__.py -> build/lib.macosx-10.9-x86_64-3.7/fasttext/util\n",
      "  creating build/lib.macosx-10.9-x86_64-3.7/fasttext/tests\n",
      "  copying python/fasttext_module/fasttext/tests/test_script.py -> build/lib.macosx-10.9-x86_64-3.7/fasttext/tests\n",
      "  copying python/fasttext_module/fasttext/tests/__init__.py -> build/lib.macosx-10.9-x86_64-3.7/fasttext/tests\n",
      "  copying python/fasttext_module/fasttext/tests/test_configurations.py -> build/lib.macosx-10.9-x86_64-3.7/fasttext/tests\n",
      "  running build_ext\n",
      "  creating var\n",
      "  creating var/folders\n",
      "  creating var/folders/10\n",
      "  creating var/folders/10/_z2ffwmd113dsbkyc8cpg8mc0000gn\n",
      "  creating var/folders/10/_z2ffwmd113dsbkyc8cpg8mc0000gn/T\n",
      "  gcc -Wno-unused-result -Wsign-compare -Wunreachable-code -DNDEBUG -g -fwrapv -O3 -Wall -Wstrict-prototypes -I/opt/anaconda3/include -arch x86_64 -I/opt/anaconda3/include -arch x86_64 -I/opt/anaconda3/include/python3.7m -c /var/folders/10/_z2ffwmd113dsbkyc8cpg8mc0000gn/T/tmp33rdtmlx.cpp -o var/folders/10/_z2ffwmd113dsbkyc8cpg8mc0000gn/T/tmp33rdtmlx.o -stdlib=libc++\n",
      "  xcrun: error: invalid active developer path (/Library/Developer/CommandLineTools), missing xcrun at: /Library/Developer/CommandLineTools/usr/bin/xcrun\n",
      "  gcc -Wno-unused-result -Wsign-compare -Wunreachable-code -DNDEBUG -g -fwrapv -O3 -Wall -Wstrict-prototypes -I/opt/anaconda3/include -arch x86_64 -I/opt/anaconda3/include -arch x86_64 -I/opt/anaconda3/include/python3.7m -c /var/folders/10/_z2ffwmd113dsbkyc8cpg8mc0000gn/T/tmp4l56g4cx.cpp -o var/folders/10/_z2ffwmd113dsbkyc8cpg8mc0000gn/T/tmp4l56g4cx.o -stdlib=libc++ -mmacosx-version-min=10.7\n",
      "  xcrun: error: invalid active developer path (/Library/Developer/CommandLineTools), missing xcrun at: /Library/Developer/CommandLineTools/usr/bin/xcrun\n",
      "  Traceback (most recent call last):\n",
      "    File \"<string>\", line 1, in <module>\n",
      "    File \"/private/var/folders/10/_z2ffwmd113dsbkyc8cpg8mc0000gn/T/pip-install-hzncnuhk/fasttext/setup.py\", line 202, in <module>\n",
      "      zip_safe=False,\n",
      "    File \"/opt/anaconda3/lib/python3.7/site-packages/setuptools/__init__.py\", line 161, in setup\n",
      "      return distutils.core.setup(**attrs)\n",
      "    File \"/opt/anaconda3/lib/python3.7/distutils/core.py\", line 148, in setup\n",
      "      dist.run_commands()\n",
      "    File \"/opt/anaconda3/lib/python3.7/distutils/dist.py\", line 966, in run_commands\n",
      "      self.run_command(cmd)\n",
      "    File \"/opt/anaconda3/lib/python3.7/distutils/dist.py\", line 985, in run_command\n",
      "      cmd_obj.run()\n",
      "    File \"/opt/anaconda3/lib/python3.7/site-packages/wheel/bdist_wheel.py\", line 223, in run\n",
      "      self.run_command('build')\n",
      "    File \"/opt/anaconda3/lib/python3.7/distutils/cmd.py\", line 313, in run_command\n",
      "      self.distribution.run_command(command)\n",
      "    File \"/opt/anaconda3/lib/python3.7/distutils/dist.py\", line 985, in run_command\n",
      "      cmd_obj.run()\n",
      "    File \"/opt/anaconda3/lib/python3.7/distutils/command/build.py\", line 135, in run\n",
      "      self.run_command(cmd_name)\n",
      "    File \"/opt/anaconda3/lib/python3.7/distutils/cmd.py\", line 313, in run_command\n",
      "      self.distribution.run_command(command)\n",
      "    File \"/opt/anaconda3/lib/python3.7/distutils/dist.py\", line 985, in run_command\n",
      "      cmd_obj.run()\n",
      "    File \"/opt/anaconda3/lib/python3.7/site-packages/setuptools/command/build_ext.py\", line 87, in run\n",
      "      _build_ext.run(self)\n",
      "    File \"/opt/anaconda3/lib/python3.7/site-packages/Cython/Distutils/old_build_ext.py\", line 186, in run\n",
      "      _build_ext.build_ext.run(self)\n",
      "    File \"/opt/anaconda3/lib/python3.7/distutils/command/build_ext.py\", line 340, in run\n",
      "      self.build_extensions()\n",
      "    File \"/private/var/folders/10/_z2ffwmd113dsbkyc8cpg8mc0000gn/T/pip-install-hzncnuhk/fasttext/setup.py\", line 133, in build_extensions\n",
      "      format(\" \".join(all_flags), all_flags[0])\n",
      "  RuntimeError: libc++ is needed! Failed to compile with -stdlib=libc++ -mmacosx-version-min=10.7 and -stdlib=libc++.\n",
      "  ----------------------------------------\u001b[0m\n",
      "\u001b[31m  ERROR: Failed building wheel for fasttext\u001b[0m\n",
      "\u001b[?25h  Running setup.py clean for fasttext\n",
      "Failed to build fasttext\n",
      "Installing collected packages: fasttext, razdel, dostoevsky\n",
      "    Running setup.py install for fasttext ... \u001b[?25lerror\n",
      "\u001b[31m    ERROR: Command errored out with exit status 1:\n",
      "     command: /opt/anaconda3/bin/python3.7 -u -c 'import sys, setuptools, tokenize; sys.argv[0] = '\"'\"'/private/var/folders/10/_z2ffwmd113dsbkyc8cpg8mc0000gn/T/pip-install-hzncnuhk/fasttext/setup.py'\"'\"'; __file__='\"'\"'/private/var/folders/10/_z2ffwmd113dsbkyc8cpg8mc0000gn/T/pip-install-hzncnuhk/fasttext/setup.py'\"'\"';f=getattr(tokenize, '\"'\"'open'\"'\"', open)(__file__);code=f.read().replace('\"'\"'\\r\\n'\"'\"', '\"'\"'\\n'\"'\"');f.close();exec(compile(code, __file__, '\"'\"'exec'\"'\"'))' install --record /private/var/folders/10/_z2ffwmd113dsbkyc8cpg8mc0000gn/T/pip-record-on7_6j6n/install-record.txt --single-version-externally-managed --compile --install-headers /opt/anaconda3/include/python3.7m/fasttext\n",
      "         cwd: /private/var/folders/10/_z2ffwmd113dsbkyc8cpg8mc0000gn/T/pip-install-hzncnuhk/fasttext/\n",
      "    Complete output (55 lines):\n",
      "    running install\n",
      "    running build\n",
      "    running build_py\n",
      "    creating build\n",
      "    creating build/lib.macosx-10.9-x86_64-3.7\n",
      "    creating build/lib.macosx-10.9-x86_64-3.7/fasttext\n",
      "    copying python/fasttext_module/fasttext/__init__.py -> build/lib.macosx-10.9-x86_64-3.7/fasttext\n",
      "    copying python/fasttext_module/fasttext/FastText.py -> build/lib.macosx-10.9-x86_64-3.7/fasttext\n",
      "    creating build/lib.macosx-10.9-x86_64-3.7/fasttext/util\n",
      "    copying python/fasttext_module/fasttext/util/util.py -> build/lib.macosx-10.9-x86_64-3.7/fasttext/util\n",
      "    copying python/fasttext_module/fasttext/util/__init__.py -> build/lib.macosx-10.9-x86_64-3.7/fasttext/util\n",
      "    creating build/lib.macosx-10.9-x86_64-3.7/fasttext/tests\n",
      "    copying python/fasttext_module/fasttext/tests/test_script.py -> build/lib.macosx-10.9-x86_64-3.7/fasttext/tests\n",
      "    copying python/fasttext_module/fasttext/tests/__init__.py -> build/lib.macosx-10.9-x86_64-3.7/fasttext/tests\n",
      "    copying python/fasttext_module/fasttext/tests/test_configurations.py -> build/lib.macosx-10.9-x86_64-3.7/fasttext/tests\n",
      "    running build_ext\n",
      "    gcc -Wno-unused-result -Wsign-compare -Wunreachable-code -DNDEBUG -g -fwrapv -O3 -Wall -Wstrict-prototypes -I/opt/anaconda3/include -arch x86_64 -I/opt/anaconda3/include -arch x86_64 -I/opt/anaconda3/include/python3.7m -c /var/folders/10/_z2ffwmd113dsbkyc8cpg8mc0000gn/T/tmp9eur1_vh.cpp -o var/folders/10/_z2ffwmd113dsbkyc8cpg8mc0000gn/T/tmp9eur1_vh.o -stdlib=libc++\n",
      "    xcrun: error: invalid active developer path (/Library/Developer/CommandLineTools), missing xcrun at: /Library/Developer/CommandLineTools/usr/bin/xcrun\n",
      "    gcc -Wno-unused-result -Wsign-compare -Wunreachable-code -DNDEBUG -g -fwrapv -O3 -Wall -Wstrict-prototypes -I/opt/anaconda3/include -arch x86_64 -I/opt/anaconda3/include -arch x86_64 -I/opt/anaconda3/include/python3.7m -c /var/folders/10/_z2ffwmd113dsbkyc8cpg8mc0000gn/T/tmp3o5cuc2d.cpp -o var/folders/10/_z2ffwmd113dsbkyc8cpg8mc0000gn/T/tmp3o5cuc2d.o -stdlib=libc++ -mmacosx-version-min=10.7\n",
      "    xcrun: error: invalid active developer path (/Library/Developer/CommandLineTools), missing xcrun at: /Library/Developer/CommandLineTools/usr/bin/xcrun\n",
      "    Traceback (most recent call last):\n",
      "      File \"<string>\", line 1, in <module>\n",
      "      File \"/private/var/folders/10/_z2ffwmd113dsbkyc8cpg8mc0000gn/T/pip-install-hzncnuhk/fasttext/setup.py\", line 202, in <module>\n",
      "        zip_safe=False,\n",
      "      File \"/opt/anaconda3/lib/python3.7/site-packages/setuptools/__init__.py\", line 161, in setup\n",
      "        return distutils.core.setup(**attrs)\n",
      "      File \"/opt/anaconda3/lib/python3.7/distutils/core.py\", line 148, in setup\n",
      "        dist.run_commands()\n",
      "      File \"/opt/anaconda3/lib/python3.7/distutils/dist.py\", line 966, in run_commands\n",
      "        self.run_command(cmd)\n",
      "      File \"/opt/anaconda3/lib/python3.7/distutils/dist.py\", line 985, in run_command\n",
      "        cmd_obj.run()\n",
      "      File \"/opt/anaconda3/lib/python3.7/site-packages/setuptools/command/install.py\", line 61, in run\n",
      "        return orig.install.run(self)\n",
      "      File \"/opt/anaconda3/lib/python3.7/distutils/command/install.py\", line 545, in run\n",
      "        self.run_command('build')\n",
      "      File \"/opt/anaconda3/lib/python3.7/distutils/cmd.py\", line 313, in run_command\n",
      "        self.distribution.run_command(command)\n",
      "      File \"/opt/anaconda3/lib/python3.7/distutils/dist.py\", line 985, in run_command\n",
      "        cmd_obj.run()\n",
      "      File \"/opt/anaconda3/lib/python3.7/distutils/command/build.py\", line 135, in run\n",
      "        self.run_command(cmd_name)\n",
      "      File \"/opt/anaconda3/lib/python3.7/distutils/cmd.py\", line 313, in run_command\n",
      "        self.distribution.run_command(command)\n",
      "      File \"/opt/anaconda3/lib/python3.7/distutils/dist.py\", line 985, in run_command\n",
      "        cmd_obj.run()\n",
      "      File \"/opt/anaconda3/lib/python3.7/site-packages/setuptools/command/build_ext.py\", line 87, in run\n",
      "        _build_ext.run(self)\n",
      "      File \"/opt/anaconda3/lib/python3.7/site-packages/Cython/Distutils/old_build_ext.py\", line 186, in run\n",
      "        _build_ext.build_ext.run(self)\n",
      "      File \"/opt/anaconda3/lib/python3.7/distutils/command/build_ext.py\", line 340, in run\n",
      "        self.build_extensions()\n",
      "      File \"/private/var/folders/10/_z2ffwmd113dsbkyc8cpg8mc0000gn/T/pip-install-hzncnuhk/fasttext/setup.py\", line 133, in build_extensions\n",
      "        format(\" \".join(all_flags), all_flags[0])\n",
      "    RuntimeError: libc++ is needed! Failed to compile with -stdlib=libc++ -mmacosx-version-min=10.7 and -stdlib=libc++.\n",
      "    ----------------------------------------\u001b[0m\n",
      "\u001b[31mERROR: Command errored out with exit status 1: /opt/anaconda3/bin/python3.7 -u -c 'import sys, setuptools, tokenize; sys.argv[0] = '\"'\"'/private/var/folders/10/_z2ffwmd113dsbkyc8cpg8mc0000gn/T/pip-install-hzncnuhk/fasttext/setup.py'\"'\"'; __file__='\"'\"'/private/var/folders/10/_z2ffwmd113dsbkyc8cpg8mc0000gn/T/pip-install-hzncnuhk/fasttext/setup.py'\"'\"';f=getattr(tokenize, '\"'\"'open'\"'\"', open)(__file__);code=f.read().replace('\"'\"'\\r\\n'\"'\"', '\"'\"'\\n'\"'\"');f.close();exec(compile(code, __file__, '\"'\"'exec'\"'\"'))' install --record /private/var/folders/10/_z2ffwmd113dsbkyc8cpg8mc0000gn/T/pip-record-on7_6j6n/install-record.txt --single-version-externally-managed --compile --install-headers /opt/anaconda3/include/python3.7m/fasttext Check the logs for full command output.\u001b[0m\n"
     ]
    },
    {
     "name": "stdout",
     "output_type": "stream",
     "text": [
      "\u001b[?25h"
     ]
    }
   ],
   "source": [
    "!pip install dostoevsky"
   ]
  },
  {
   "cell_type": "code",
   "execution_count": 156,
   "metadata": {},
   "outputs": [
    {
     "name": "stdout",
     "output_type": "stream",
     "text": [
      "/opt/anaconda3/bin/python: No module named dostoevsky\r\n"
     ]
    }
   ],
   "source": [
    "!python -m dostoevsky download fasttext-social-network-model"
   ]
  },
  {
   "cell_type": "code",
   "execution_count": null,
   "metadata": {},
   "outputs": [],
   "source": []
  },
  {
   "cell_type": "code",
   "execution_count": null,
   "metadata": {},
   "outputs": [],
   "source": []
  },
  {
   "cell_type": "code",
   "execution_count": null,
   "metadata": {},
   "outputs": [],
   "source": []
  },
  {
   "cell_type": "code",
   "execution_count": null,
   "metadata": {},
   "outputs": [],
   "source": []
  },
  {
   "cell_type": "code",
   "execution_count": null,
   "metadata": {},
   "outputs": [],
   "source": []
  },
  {
   "cell_type": "code",
   "execution_count": null,
   "metadata": {},
   "outputs": [],
   "source": []
  },
  {
   "cell_type": "code",
   "execution_count": null,
   "metadata": {},
   "outputs": [],
   "source": []
  }
 ],
 "metadata": {
  "kernelspec": {
   "display_name": "Python 3",
   "language": "python",
   "name": "python3"
  },
  "language_info": {
   "codemirror_mode": {
    "name": "ipython",
    "version": 3
   },
   "file_extension": ".py",
   "mimetype": "text/x-python",
   "name": "python",
   "nbconvert_exporter": "python",
   "pygments_lexer": "ipython3",
   "version": "3.7.6"
  }
 },
 "nbformat": 4,
 "nbformat_minor": 4
}
